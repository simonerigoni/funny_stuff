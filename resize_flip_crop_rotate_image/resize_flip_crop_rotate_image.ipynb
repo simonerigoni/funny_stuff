{
 "cells": [
  {
   "cell_type": "markdown",
   "metadata": {},
   "source": [
    "# Resize, Flip, Crop or Rotate an image\n",
    "\n",
    "![dog](images/dog.jpeg)"
   ]
  },
  {
   "cell_type": "code",
   "execution_count": 1,
   "metadata": {},
   "outputs": [],
   "source": [
    "#https://dzone.com/articles/how-to-rotate-mirror-photos-with-python\n",
    "\n",
    "from PIL import Image\n",
    "\n",
    "IMAGE_DIRECTORY = 'images/'\n",
    "IMAGE_NAME = 'dog.jpeg'\n",
    "ANGLE = 90"
   ]
  },
  {
   "cell_type": "code",
   "execution_count": 2,
   "metadata": {},
   "outputs": [],
   "source": [
    "def rotate_image(image_path, degrees_to_rotate, saved_location):\n",
    "    '''\n",
    "    Rotate the given image by the required degrees\n",
    "\n",
    "    Arguments:\n",
    "        image_path (str): The path to the image to edit\n",
    "        degrees_to_rotate (int): The number of degrees to rotate the image\n",
    "        saved_location (str): Path to save the image\n",
    "\n",
    "    Returns:\n",
    "        None\n",
    "    '''\n",
    "    input_image = Image.open(image_path)\n",
    "    filepath, extension = image_path.rsplit('.', 1)\n",
    "    output_image = input_image.rotate(degrees_to_rotate)\n",
    "    output_image.save(filepath + '_rotate_' + str(degrees_to_rotate) + '.' + extension)\n",
    "    #output_image.show()\n",
    "\n",
    "rotate_image(IMAGE_DIRECTORY + IMAGE_NAME, 90, IMAGE_DIRECTORY)"
   ]
  },
  {
   "cell_type": "code",
   "execution_count": 3,
   "metadata": {},
   "outputs": [],
   "source": [
    "def flip_image(image_path, saved_location):\n",
    "    '''\n",
    "    Flip the given image\n",
    "\n",
    "    Arguments:\n",
    "        image_path (str): The path to the image to edit\n",
    "        saved_location (str): Path to save the image\n",
    "\n",
    "    Returns:\n",
    "        None\n",
    "    '''\n",
    "    input_image = Image.open(image_path)\n",
    "    filepath, extension = image_path.rsplit('.', 1)\n",
    "    output_image = input_image.transpose(Image.FLIP_LEFT_RIGHT)\n",
    "    output_image.save(filepath + '_flip.' + extension)\n",
    "    #output_image.show()\n",
    "\n",
    "flip_image(IMAGE_DIRECTORY + IMAGE_NAME, IMAGE_DIRECTORY)"
   ]
  },
  {
   "cell_type": "code",
   "execution_count": 5,
   "metadata": {},
   "outputs": [],
   "source": [
    "def resize_image(image_path, size, saved_location):\n",
    "    '''\n",
    "    Resize the given image\n",
    "\n",
    "    Arguments:\n",
    "        image_path (str): The path to the image to edit\n",
    "        dimension (tuple): Required (width, height)  \n",
    "        saved_location (str): Path to save the image\n",
    "\n",
    "    Returns:\n",
    "        None\n",
    "    '''\n",
    "    input_image = Image.open(image_path)\n",
    "    filepath, extension = image_path.rsplit('.', 1)\n",
    "    output_image = input_image.resize(size)\n",
    "    output_image.save(filepath + '_resize.' + extension)\n",
    "    #output_image.show()\n",
    "\n",
    "resize_image(IMAGE_DIRECTORY + IMAGE_NAME, (600, 500), IMAGE_DIRECTORY)"
   ]
  },
  {
   "cell_type": "code",
   "execution_count": 18,
   "metadata": {},
   "outputs": [],
   "source": [
    "def crop_image(image_path, saved_location):\n",
    "    '''\n",
    "    Crop the given image\n",
    "\n",
    "    Arguments:\n",
    "        image_path (str): The path to the image to edit\n",
    "        saved_location (str): Path to save the image\n",
    "\n",
    "    Returns:\n",
    "        None\n",
    "    '''\n",
    "    input_image = Image.open(image_path)\n",
    "    filepath, extension = image_path.rsplit('.', 1)\n",
    "    width, height = input_image.size\n",
    "    left = width / 4\n",
    "    upper = height / 4\n",
    "    right = width * 3 / 4\n",
    "    lower = height * 3 / 4\n",
    "    output_image = input_image.crop((left, upper, right, lower))\n",
    "    output_image.save(filepath + '_crop.' + extension)\n",
    "    #output_image.show()\n",
    "\n",
    "crop_image(IMAGE_DIRECTORY + IMAGE_NAME, IMAGE_DIRECTORY)"
   ]
  }
 ],
 "metadata": {
  "language_info": {
   "codemirror_mode": {
    "name": "ipython",
    "version": 3
   },
   "file_extension": ".py",
   "mimetype": "text/x-python",
   "name": "python",
   "nbconvert_exporter": "python",
   "pygments_lexer": "ipython3",
   "version": "3.8.2-final"
  },
  "orig_nbformat": 2,
  "kernelspec": {
   "name": "python38264bit8c8bf57897dd41afbb2bfcf7cdeb8645",
   "display_name": "Python 3.8.2 64-bit"
  }
 },
 "nbformat": 4,
 "nbformat_minor": 2
}