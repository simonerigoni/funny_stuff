{
 "nbformat": 4,
 "nbformat_minor": 2,
 "metadata": {
  "language_info": {
   "name": "python",
   "codemirror_mode": {
    "name": "ipython",
    "version": 3
   },
   "version": "3.7.5-final"
  },
  "orig_nbformat": 2,
  "file_extension": ".py",
  "mimetype": "text/x-python",
  "name": "python",
  "npconvert_exporter": "python",
  "pygments_lexer": "ipython3",
  "version": 3,
  "kernelspec": {
   "name": "python37564bit324c03f43e6a4628bca332b7aa9b50a9",
   "display_name": "Python 3.7.5 64-bit"
  }
 },
 "cells": [
  {
   "cell_type": "markdown",
   "execution_count": null,
   "metadata": {},
   "outputs": [],
   "source": [
    "# Python Decorators\n",
    "\n",
    "A decorator is a design pattern in Python that allows a user to add new functionality to an existing object without modifying its structure as well explained [here](https://www.datacamp.com/community/tutorials/decorators-python)"
   ]
  },
  {
   "cell_type": "code",
   "execution_count": 21,
   "metadata": {},
   "outputs": [
    {
     "name": "stdout",
     "output_type": "stream",
     "text": "Hello World!\n"
    }
   ],
   "source": [
    "def hello_world():\n",
    "    return 'Hello World!'\n",
    "\n",
    "print(hello_world())"
   ]
  },
  {
   "cell_type": "code",
   "execution_count": 22,
   "metadata": {},
   "outputs": [
    {
     "name": "stdout",
     "output_type": "stream",
     "text": "PIPPO\n"
    }
   ],
   "source": [
    "def make_upper(function):\n",
    "    return function.upper()\n",
    "\n",
    "print(make_upper('pippo'))"
   ]
  },
  {
   "cell_type": "code",
   "execution_count": 23,
   "metadata": {},
   "outputs": [
    {
     "name": "stdout",
     "output_type": "stream",
     "text": "HELLO WORLD!\n"
    }
   ],
   "source": [
    "print(make_upper(hello_world()))"
   ]
  },
  {
   "cell_type": "markdown",
   "execution_count": null,
   "metadata": {},
   "outputs": [],
   "source": [
    "In Python is possible to use @ before the function we'd like to decorate"
   ]
  },
  {
   "cell_type": "code",
   "execution_count": 26,
   "metadata": {},
   "outputs": [
    {
     "name": "stdout",
     "output_type": "stream",
     "text": "HELLO WORLD!\n"
    }
   ],
   "source": [
    "def make_upper(function):\n",
    "    def wrapper():\n",
    "        func = function()\n",
    "        return func.upper()\n",
    "    return wrapper\n",
    "\n",
    "@make_upper\n",
    "def hello_world():\n",
    "    return 'Hello World!'\n",
    "\n",
    "print(hello_world())"
   ]
  },
  {
   "cell_type": "code",
   "execution_count": null,
   "metadata": {},
   "outputs": [],
   "source": []
  }
 ]
}