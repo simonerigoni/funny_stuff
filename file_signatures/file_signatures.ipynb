{
 "cells": [
  {
   "cell_type": "markdown",
   "metadata": {},
   "source": [
    "# File signatures\n",
    "\n",
    "The [file signatures](https://en.wikipedia.org/wiki/List_of_file_signatures) are portion of data used to identify or verify the content of a file. Such signatures are also known as magic numbers or Magic Bytes\n",
    "\n",
    "\n",
    "| Filename extension | Hex signature           |\n",
    "|--------------------|-------------------------|\n",
    "|                png | 89 50 4E 47 0D 0A 1A 0A |\n",
    "|                jpg | FF D8 FF                |\n",
    "|               jpeg | FF D8 FF                |\n",
    "|                bmp | 42 4D                   |\n",
    "|                gif | 47 49 46 38             |"
   ]
  },
  {
   "cell_type": "code",
   "execution_count": 8,
   "metadata": {
    "tags": [
     "outputPrepend"
    ]
   },
   "outputs": [
    {
     "output_type": "stream",
     "name": "stdout",
     "text": "images/logistic_function.png\nb'\\x89PNG\\r\\n\\x1a\\n'\n89504e470d0a1a0a\niVBORw0KGgo=\nAAAAAAAAAAA 89504e470d0a1a0a\nbytearray(b'\\x89PNG\\r\\n')\n89504e470d0a\niVBORw0K\nExtension match signature: True\n\nimages/pink_primose.jpg\nb'\\xff\\xd8\\xff\\xe0\\x00\\x10JF'\nffd8ffe000104a46\n/9j/4AAQSkY=\nAAAAAAAAAAA ffd8ffe000104a46\nbytearray(b'\\xff\\xd8\\xff')\nffd8ff\n/9j/\nExtension match signature: True\n\nimages/pippo_txt.jpg\nb'joniubvp'\n6a6f6e6975627670\nam9uaXVidnA=\nAAAAAAAAAAA 6a6f6e6975627670\nbytearray(b'\\xff\\xd8\\xff')\nffd8ff\n/9j/\nExtension match signature: False\n\nimages/pink_primose_copy.jpeg\nb'\\xff\\xd8\\xff\\xe0\\x00\\x10JF'\nffd8ffe000104a46\n/9j/4AAQSkY=\nAAAAAAAAAAA ffd8ffe000104a46\nbytearray(b'\\xff\\xd8\\xff')\nffd8ff\n/9j/\nExtension match signature: True\n\nimages/sunflower.bmp\nb'BM\\xf6z\\x10\\x00\\x00\\x00'\n424df67a10000000\nQk32ehAAAAA=\nAAAAAAAAAAA 424df67a10000000\nbytearray(b'BM')\n424d\nQk0=\nExtension match signature: True\n\nimages/test.gif\nb'GIF89a\\xb5\\x02'\n474946383961b502\nR0lGODlhtQI=\nAAAAAAAAAAA 474946383961b502\nbytearray(b'GIF8')\n47494638\nR0lGOA==\nExtension match signature: True\n\n"
    }
   ],
   "source": [
    "import base64\n",
    "import binascii\n",
    "\n",
    "HEADER_SIZE = 8 # bytes\n",
    "test_images = ['logistic_function.png' \n",
    "    , 'pink_primose.jpg'         \n",
    "    , 'pippo_txt.jpg'\n",
    "    , 'pink_primose_copy.jpeg'     \n",
    "    , 'sunflower.bmp'              \n",
    "    , 'test.gif'     \n",
    "    ]\n",
    "\n",
    "dict_extension_signature = {'png' : '89504e470d0a'\n",
    "    , 'jpg' : 'ffd8ff'\n",
    "    , 'jpeg' : 'ffd8ff'\n",
    "    , 'bmp' : '424d'\n",
    "    , 'gif' : '47494638'\n",
    "    }\n",
    "\n",
    "def check_extension_match_signature(filepath, header_bytes = 8):\n",
    "    '''\n",
    "    Check if the image extension matches the file signature\n",
    "\n",
    "    Arguments:\n",
    "        filepath (str): filename \n",
    "\n",
    "    Returns:\n",
    "        match (boolean): True if extension and signature mathces and False otherwise\n",
    "    '''\n",
    "    filename, extension = filepath.rsplit('.', 1)\n",
    "    with open(filepath, 'rb') as image_file:\n",
    "        image_read = image_file.read()\n",
    "        header_byte = image_read[0:header_bytes]\n",
    "        header_hex = header_byte.hex()\n",
    "        header_base64 = base64.b64encode(header_byte).decode()\n",
    "        signature_hex = dict_extension_signature[extension]\n",
    "        signature_byte = bytearray.fromhex(signature_hex)\n",
    "        signature_base64 = base64.b64encode(signature_byte).decode()\n",
    "        \n",
    "        print(header_byte)\n",
    "        print(header_hex)\n",
    "        print(header_base64)\n",
    "        print(signature_byte)\n",
    "        print(signature_hex)\n",
    "        print(signature_base64)\n",
    "\n",
    "        if signature_hex == header_byte.hex()[0:len(signature_hex)]:\n",
    "            return True\n",
    "        else:\n",
    "            return False\n",
    "\n",
    "\n",
    "for image_name in test_images:\n",
    "    filepath = 'images/' + image_name\n",
    "    with open(filepath, 'rb') as image_file:\n",
    "        image_read = image_file.read()\n",
    "        header_byte = image_read[0:HEADER_SIZE]\n",
    "        header_hex = header_byte.hex()\n",
    "        header_base64 = base64.b64encode(header_byte)\n",
    "        print('images/' + image_name)\n",
    "        print('Extension match signature: {}'.format(check_extension_match_signature(filepath)))\n",
    "    print()"
   ]
  },
  {
   "cell_type": "markdown",
   "metadata": {},
   "source": [
    "'pippo_txt.jpg' was a .txt then I have changed the extension in .jpg: the check on the signature does reveal that the file is not a .jpg as expected"
   ]
  }
 ],
 "metadata": {
  "language_info": {
   "name": "python",
   "codemirror_mode": {
    "name": "ipython",
    "version": 3
   },
   "version": "3.8.2-final"
  },
  "orig_nbformat": 2,
  "file_extension": ".py",
  "mimetype": "text/x-python",
  "name": "python",
  "npconvert_exporter": "python",
  "pygments_lexer": "ipython3",
  "version": 3,
  "kernelspec": {
   "name": "python38264bit8c8bf57897dd41afbb2bfcf7cdeb8645",
   "display_name": "Python 3.8.2 64-bit"
  }
 },
 "nbformat": 4,
 "nbformat_minor": 2
}