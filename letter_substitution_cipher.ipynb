{
 "cells": [
  {
   "attachments": {},
   "cell_type": "markdown",
   "metadata": {},
   "source": [
    "From [Wikipedia](https://en.wikipedia.org/wiki/Substitution_cipher) In cryptography, a substitution cipher is a method of encrypting by which units of plaintext are replaced with ciphertext, according to a fixed system; the \"units\" may be single letters (the most common), pairs of letters, triplets of letters, mixtures of the above, and so forth. The receiver deciphers the text by performing the inverse substitution.\n"
   ]
  },
  {
   "cell_type": "code",
   "execution_count": 11,
   "metadata": {},
   "outputs": [
    {
     "name": "stdout",
     "output_type": "stream",
     "text": [
      "Pna lbh ernq guvf zrffntr?\n",
      "Can you read this message?\n",
      "Can you read this message?\n"
     ]
    }
   ],
   "source": [
    "# https://docs.python.org/2/library/codecs.html#module-codecs\n",
    "\n",
    "import codecs\n",
    "\n",
    "message = 'Can you read this message?'\n",
    "\n",
    "message_encoded = codecs.encode(message, 'rot_13')\n",
    "print(message_encoded)\n",
    "\n",
    "message_decoded = codecs.decode(message_encoded, 'rot_13')\n",
    "print(message_decoded)\n",
    "\n",
    "# Applying ROT13 to a string encoded with ROT13 we obtain the original string\n",
    "message_encoded_encoded = codecs.encode(message_encoded, 'rot_13') \n",
    "print(message_encoded_encoded)"
   ]
  },
  {
   "cell_type": "code",
   "execution_count": 12,
   "metadata": {},
   "outputs": [
    {
     "name": "stdout",
     "output_type": "stream",
     "text": [
      "Uryyb Jbeyq!\n"
     ]
    }
   ],
   "source": [
    "# https://blog.finxter.com/how-to-use-rot13-in-python/\n",
    "\n",
    "import string\n",
    "\n",
    "alphabet = string.ascii_lowercase\n",
    "rot = 13\n",
    "\n",
    "message = 'Hello World!'\n",
    "message_encoded = ''\n",
    "\n",
    "for c in message:\n",
    "    if c.lower() in alphabet:\n",
    "        c_encoded = alphabet[(alphabet.find(c.lower()) + rot) % (rot * 2)]\n",
    "        if c.isupper():\n",
    "            message_encoded  = message_encoded + c_encoded.upper()\n",
    "        else:\n",
    "            message_encoded  = message_encoded + c_encoded\n",
    "    else:\n",
    "        message_encoded = message_encoded + c\n",
    "\n",
    "#phrase_encoded = ''.join([alphabet[(alphabet.find(c) + rot) % (rot * 2)] for c in phrase.lower()])\n",
    "\n",
    "print(message_encoded)"
   ]
  },
  {
   "cell_type": "code",
   "execution_count": 13,
   "metadata": {},
   "outputs": [
    {
     "name": "stdout",
     "output_type": "stream",
     "text": [
      "Guvf vf shaal fghss\n",
      "This is funny stuff\n"
     ]
    }
   ],
   "source": [
    "def encode_rotation_13_cipher(message):\n",
    "    '''\n",
    "    Encode a message in ROT13\n",
    "\n",
    "    Input:\n",
    "        message (str): message to encode\n",
    "    Output:\n",
    "        message_encoded (str): message encoded\n",
    "    '''\n",
    "    alphabet = string.ascii_lowercase\n",
    "    message_encoded = ''\n",
    "    \n",
    "    for character in message:\n",
    "        character_lower = character.lower()\n",
    "        if character_lower in alphabet:\n",
    "            character_encoded = alphabet[(alphabet.find(character_lower) + 13) % (13 * 2)]\n",
    "            \n",
    "            if character.isupper():\n",
    "                message_encoded  = message_encoded + character_encoded.upper()\n",
    "            else:\n",
    "                message_encoded  = message_encoded + character_encoded\n",
    "        else:\n",
    "            message_encoded = message_encoded + character\n",
    "\n",
    "    return message_encoded\n",
    "\n",
    "\n",
    "def decode_rotation_13_cipher(message_encoded):\n",
    "    '''\n",
    "    Decode a message in ROT13. Applying ROT13 to a string encoded with ROT13 we obtain the original string\n",
    "\n",
    "    Input:\n",
    "        message_encoded (str): message to decode\n",
    "    Output:\n",
    "        message_decoded (str): message decoded\n",
    "    '''\n",
    "    return encode_rotation_13_cipher(message_encoded)\n",
    "\n",
    "\n",
    "message = 'This is funny stuff'\n",
    "\n",
    "message_encoded = encode_rotation_13_cipher(message)\n",
    "print(message_encoded)\n",
    "\n",
    "print(decode_rotation_13_cipher(message_encoded))\n"
   ]
  },
  {
   "cell_type": "code",
   "execution_count": null,
   "metadata": {},
   "outputs": [],
   "source": []
  }
 ],
 "metadata": {
  "file_extension": ".py",
  "kernelspec": {
   "display_name": "Python 3",
   "language": "python",
   "name": "python3"
  },
  "language_info": {
   "codemirror_mode": {
    "name": "ipython",
    "version": 3
   },
   "file_extension": ".py",
   "mimetype": "text/x-python",
   "name": "python",
   "nbconvert_exporter": "python",
   "pygments_lexer": "ipython3",
   "version": "3.10.7"
  },
  "mimetype": "text/x-python",
  "name": "python",
  "npconvert_exporter": "python",
  "orig_nbformat": 2,
  "pygments_lexer": "ipython3",
  "version": 3
 },
 "nbformat": 4,
 "nbformat_minor": 2
}
