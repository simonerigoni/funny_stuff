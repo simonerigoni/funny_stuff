{
 "nbformat": 4,
 "nbformat_minor": 2,
 "metadata": {
  "language_info": {
   "name": "python",
   "codemirror_mode": {
    "name": "ipython",
    "version": 3
   },
   "version": "3.7.4"
  },
  "orig_nbformat": 2,
  "file_extension": ".py",
  "mimetype": "text/x-python",
  "name": "python",
  "npconvert_exporter": "python",
  "pygments_lexer": "ipython3",
  "version": 3
 },
 "cells": [
  {
   "cell_type": "markdown",
   "execution_count": 4,
   "metadata": {},
   "outputs": [
    {
     "ename": "SyntaxError",
     "evalue": "invalid syntax (<ipython-input-4-bb88b01e6573>, line 1)",
     "output_type": "error",
     "traceback": [
      "\u001b[1;36m  File \u001b[1;32m\"<ipython-input-4-bb88b01e6573>\"\u001b[1;36m, line \u001b[1;32m1\u001b[0m\n\u001b[1;33m    From [Wikipedia](https://en.wikipedia.org/wiki/Substitution_cipher) In cryptography, a substitution cipher is a method of encrypting by which units of plaintext are replaced with ciphertext, according to a fixed system; the \"units\" may be single letters (the most common), pairs of letters, triplets of letters, mixtures of the above, and so forth. The receiver deciphers the text by performing the inverse substitution.\u001b[0m\n\u001b[1;37m                          ^\u001b[0m\n\u001b[1;31mSyntaxError\u001b[0m\u001b[1;31m:\u001b[0m invalid syntax\n"
     ]
    }
   ],
   "source": [
    "From [Wikipedia](https://en.wikipedia.org/wiki/Substitution_cipher) In cryptography, a substitution cipher is a method of encrypting by which units of plaintext are replaced with ciphertext, according to a fixed system; the \"units\" may be single letters (the most common), pairs of letters, triplets of letters, mixtures of the above, and so forth. The receiver deciphers the text by performing the inverse substitution.\n"
   ]
  },
  {
   "cell_type": "code",
   "execution_count": 21,
   "metadata": {},
   "outputs": [
    {
     "name": "stdout",
     "output_type": "stream",
     "text": "Uryyb Jbeyq!\nHello World!\nHello World!\n"
    }
   ],
   "source": [
    "# https://docs.python.org/2/library/codecs.html#module-codecs\n",
    "\n",
    "import codecs\n",
    "\n",
    "phrase = 'Hello World!'\n",
    "\n",
    "phrase_encoded = codecs.encode(phrase, 'rot_13')\n",
    "\n",
    "print(phrase_encoded)\n",
    "\n",
    "phrase_encoded_encoded = codecs.decode(phrase_encoded, 'rot_13') # applying ROT13 to a string encoded with ROT13 we obtain the original string\n",
    "\n",
    "print(phrase_encoded_encoded)\n",
    "\n",
    "phrase_decoded = codecs.decode(phrase_encoded, 'rot_13')\n",
    "\n",
    "print(phrase_decoded)"
   ]
  },
  {
   "cell_type": "code",
   "execution_count": 27,
   "metadata": {},
   "outputs": [
    {
     "name": "stdout",
     "output_type": "stream",
     "text": "Uryyb Jbeyq!\n"
    }
   ],
   "source": [
    "# https://blog.finxter.com/how-to-use-rot13-in-python/\n",
    "\n",
    "import string\n",
    "\n",
    "alphabet = string.ascii_lowercase\n",
    "rot = 13\n",
    "\n",
    "phrase_encoded = ''\n",
    "\n",
    "for c in phrase:\n",
    "    if c.lower() in alphabet:\n",
    "        c_encoded = alphabet[(alphabet.find(c.lower()) + rot) % (rot * 2)]\n",
    "        if c.isupper():\n",
    "            phrase_encoded  = phrase_encoded + c_encoded.upper()\n",
    "        else:\n",
    "            phrase_encoded  = phrase_encoded + c_encoded\n",
    "    else:\n",
    "        phrase_encoded = phrase_encoded + c\n",
    "\n",
    "#phrase_encoded = ''.join([alphabet[(alphabet.find(c) + rot) % (rot * 2)] for c in phrase.lower()])\n",
    "\n",
    "print(phrase_encoded)"
   ]
  },
  {
   "cell_type": "code",
   "execution_count": 37,
   "metadata": {},
   "outputs": [
    {
     "name": "stdout",
     "output_type": "stream",
     "text": "Guvf vf shaal fghss\nThis is funny stuff\n"
    }
   ],
   "source": [
    "def encode_rotation_13_cipher(message):\n",
    "    '''\n",
    "    Encode a message in ROT13\n",
    "    Input:\n",
    "        message (str): message to encode\n",
    "    Output:\n",
    "        message_encoded (str): message encoded\n",
    "    '''\n",
    "    alphabet = string.ascii_lowercase\n",
    "    message_decoded = ''\n",
    "    for character in message:\n",
    "        if character.lower() in alphabet:\n",
    "            character_decoded = alphabet[(alphabet.find(character.lower()) + 13) % (13 * 2)]\n",
    "            if character.isupper():\n",
    "                message_decoded  = message_decoded + character_decoded.upper()\n",
    "            else:\n",
    "                message_decoded  = message_decoded + character_decoded\n",
    "        else:\n",
    "            message_decoded = message_decoded + character\n",
    "    return message_decoded\n",
    "\n",
    "def decode_rotation_13_cipher(encoded_message):\n",
    "    '''\n",
    "    Decode a message in ROT13. Applying ROT13 to a string encoded with ROT13 we obtain the original string \n",
    "    Input:\n",
    "        encoded_message (str): message to decode\n",
    "    Output:\n",
    "        message_decoded (str): message decoded\n",
    "    '''\n",
    "    return encode_rotation_13_cipher(encoded_message)\n",
    "\n",
    "\n",
    "phrase = 'This is funny stuff'\n",
    "encoded_phrase = encode_rotation_13_cipher(phrase)\n",
    "\n",
    "print(encoded_phrase)\n",
    "print(decode_rotation_13_cipher(encoded_phrase))\n"
   ]
  },
  {
   "cell_type": "code",
   "execution_count": null,
   "metadata": {},
   "outputs": [],
   "source": []
  }
 ]
}