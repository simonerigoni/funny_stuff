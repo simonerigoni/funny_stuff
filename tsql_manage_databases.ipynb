{
    "metadata": {
        "kernelspec": {
            "name": "SQL",
            "display_name": "SQL",
            "language": "sql"
        },
        "language_info": {
            "name": "sql",
            "version": ""
        }
    },
    "nbformat_minor": 2,
    "nbformat": 4,
    "cells": [
        {
            "cell_type": "markdown",
            "source": [
                "# Manage TSQL databases\n",
                "- Create\n",
                "- Backup\n",
                "- Restore\n",
                "- Drop"
            ],
            "metadata": {
                "azdata_cell_guid": "59270fd5-7c40-4978-b9c9-30a79662d13c"
            }
        },
        {
            "cell_type": "markdown",
            "source": [
                "## Check Session Informations"
            ],
            "metadata": {
                "azdata_cell_guid": "dd3e5b10-89a5-47c3-8ec8-6ff576e3e550"
            }
        },
        {
            "cell_type": "code",
            "source": [
                "PRINT N'Server Name: ' + @@servername;\n",
                "PRINT N'Instance Name: ' +@@servicename;\n",
                "PRINT N'Database Name: ' + DB_NAME();\n",
                "PRINT N'Host Name: ' + HOST_NAME();"
            ],
            "metadata": {
                "azdata_cell_guid": "d34ea58f-ae4c-4183-8c6b-a68370f4e45e"
            },
            "outputs": [],
            "execution_count": 44
        },
        {
            "cell_type": "markdown",
            "source": [
                "## Databases Name"
            ],
            "metadata": {
                "azdata_cell_guid": "c3ecbd61-b125-48b8-beb4-24ecbfa343ae"
            }
        },
        {
            "cell_type": "code",
            "source": [
                "SELECT * INTO [dbo].[#temp_database_name]\n",
                "FROM\n",
                "(\n",
                "(\n",
                "\tSELECT N'AdventureWorks'\n",
                "\tUNION ALL SELECT N'AdventureWorksDW'\n",
                "\tUNION ALL SELECT N'time_database'\n",
                "\n",
                ") L0 ([name])\n",
                ";"
            ],
            "metadata": {
                "azdata_cell_guid": "612351f6-911c-4ff2-a2ac-d72109fca649"
            },
            "outputs": [],
            "execution_count": 47
        },
        {
            "cell_type": "code",
            "source": [
                "SELECT * FROM [dbo].[#temp_database_name];"
            ],
            "metadata": {
                "azdata_cell_guid": "2946e11f-1b44-4c83-afe8-8df84d01d488",
                "tags": []
            },
            "outputs": [],
            "execution_count": 48
        },
        {
            "cell_type": "markdown",
            "source": [
                "## Add server-path mapping if needed"
            ],
            "metadata": {
                "azdata_cell_guid": "7c134939-c48c-4b1b-8f2d-96edc6e1f438"
            }
        },
        {
            "cell_type": "code",
            "source": [
                "SELECT * INTO [dbo].[#temp_server_path_mapping]\n",
                "FROM\n",
                "(\n",
                "\t--LOCAL\n",
                "\tSELECT N'LOCAL', N'D:\\database_backup\\local_'\n",
                "\n",
                "\t--GERSQL\n",
                "\tSELECT N'GERSQL', N'G:\\backup\\DEV_'\n",
                "\n",
                "\t-- ENVS\n",
                "\tUNION ALL SELECT N'DEVSQL', N'D:\\db\\DEV_'\n",
                "\tUNION ALL SELECT N'TSTSQL', N'\\\\TSTAPP\\db\\TEST_'\n",
                "\tUNION ALL SELECT N'PRDSQL', N'\\\\PRDAPP\\db\\PROD_'\n",
                "\n",
                ") L0 ([server_name], [path])\n",
                ";"
            ],
            "metadata": {
                "azdata_cell_guid": "a0316dca-5c46-4311-9a51-f92d530286d3"
            },
            "outputs": [],
            "execution_count": 49
        },
        {
            "cell_type": "code",
            "source": [
                "SELECT * FROM [dbo].[#temp_server_path_mapping];"
            ],
            "metadata": {
                "azdata_cell_guid": "ea282aeb-2240-46c0-bcee-74d5ebbe921e"
            },
            "outputs": [],
            "execution_count": 64
        },
        {
            "cell_type": "markdown",
            "source": [
                "## Create databases"
            ],
            "metadata": {
                "azdata_cell_guid": "7f5347b1-e1a4-4270-997a-32bd91e41a31"
            }
        },
        {
            "cell_type": "code",
            "source": [
                "USE [master];\n",
                "GO\n",
                "\n",
                "DECLARE @database_name_prefix NVARCHAR(50)\n",
                "    , @database_name NVARCHAR(50)\n",
                "    , @sql AS NVARCHAR(MAX)\n",
                ";\n",
                "\n",
                "SET @database_name_prefix = N'';\n",
                "\n",
                "/* main loop on the database */\n",
                "\n",
                "DECLARE database_cursor CURSOR \n",
                "FOR \n",
                "\tSELECT @database_name_prefix + [name]\n",
                "\tFROM [#temp_database_name]\n",
                "\t;\n",
                "OPEN database_cursor;\n",
                "FETCH NEXT FROM database_cursor INTO @database_name;\n",
                "\n",
                "WHILE @@FETCH_STATUS = 0   \n",
                "BEGIN   \n",
                "\t--PRINT @database_name;\n",
                "\tSET @sql = N'\n",
                "IF DB_ID(''' + @database_name + N''') IS NULL\n",
                "BEGIN\n",
                "\tCREATE DATABASE ' + QUOTENAME(@database_name) + N';\n",
                "\tALTER DATABASE ' + QUOTENAME(@database_name) + N' SET RECOVERY SIMPLE;\n",
                "END\n",
                ";\n",
                "';\n",
                "\t--PRINT @sql;\n",
                "\tEXECUTE sp_executesql @sql;\n",
                "\n",
                "\tFETCH NEXT FROM database_cursor INTO @database_name;\n",
                "END   \n",
                ";\n",
                "\n",
                "CLOSE database_cursor;\n",
                "DEALLOCATE database_cursor;"
            ],
            "metadata": {
                "azdata_cell_guid": "53030f3a-456a-4eb7-b17e-159fba5cb2b6"
            },
            "outputs": [],
            "execution_count": 53
        },
        {
            "cell_type": "markdown",
            "source": [
                "## Backup databases"
            ],
            "metadata": {
                "azdata_cell_guid": "0864e0a9-5330-46aa-a80a-105e43548b31"
            }
        },
        {
            "cell_type": "code",
            "source": [
                "USE [master];\n",
                "GO\n",
                "\n",
                "DECLARE @server_name NVARCHAR(50)\n",
                "\t, @database_name NVARCHAR(50)\n",
                "\t, @path NVARCHAR(256) /* path for backup files */\n",
                "\t, @file_name NVARCHAR(256)\n",
                "\t, @file_timestamp NVARCHAR(20) /* used for file name */\n",
                "\t, @sql NVARCHAR(MAX)\n",
                ";\n",
                "\n",
                "--SELECT @serverName = @@SERVERNAME -- it gives a different name from the one I am expexting on AWS enviroments\n",
                "\n",
                "SELECT @server_name = CAST(SERVERPROPERTY(N'MachineName') AS NVARCHAR(50));\n",
                "\n",
                "--PRINT @server_name\n",
                "\n",
                "/* select the right database backup directory using the server name */\n",
                "\n",
                "SELECT @path = [path] \n",
                "FROM [dbo].[#temp_server_path_mapping] \n",
                "WHERE [server_name] = @server_name\n",
                ";\n",
                "\n",
                "--PRINT @path;\n",
                "\n",
                "/* specify filename format */\n",
                "\n",
                "SELECT @file_timestamp = CAST(CONVERT(date, GETUTCDATE()) AS NVARCHAR) + N'_' + REPLACE(REPLACE(CAST(CONVERT(time, GETUTCDATE()) AS NVARCHAR), N'.', N''), N':', N'-');\n",
                "\n",
                "/* main loop on the databases */\n",
                "\n",
                "DECLARE database_cursor CURSOR \n",
                "FOR \n",
                "\tSELECT [name]\n",
                "\tFROM [dbo].[sysdatabases]\n",
                "\tWHERE [name] IN (SELECT [name] FROM [#temp_database_name])\n",
                "\t;\n",
                "OPEN database_cursor;\n",
                "FETCH NEXT FROM database_cursor INTO @database_name;\n",
                "\n",
                "WHILE @@FETCH_STATUS = 0   \n",
                "BEGIN   \n",
                "   \tSET @file_name = @path + @database_name + N'_' + @file_timestamp + N'.bak';\n",
                "\n",
                " \tPRINT N'SHRINK FILE ' + @database_name;\n",
                "   \tSET @sql = N'\n",
                "USE [' + @database_name + '];\n",
                "DECLARE @temp_sql  NVARCHAR(MAX) = '''';\n",
                "SELECT @temp_sql += ''DBCC SHRINKFILE (N'''''' + f.[name] + '''''' , 0, TRUNCATEONLY); ''\n",
                "FROM [sys].[sysfiles] f\n",
                ";\n",
                "EXEC(@temp_sql);\n",
                "';\n",
                "\tEXEC (@sql);\n",
                "   \n",
                "   \tPRINT N'BACKUP DATABASE ' + @database_name + N' TO DISK = ' + @file_name;\n",
                "   \tBACKUP DATABASE @database_name TO DISK = @file_name;\n",
                "\n",
                "   \tFETCH NEXT FROM database_cursor INTO @database_name;\n",
                "END   \n",
                ";\n",
                "\n",
                "CLOSE database_cursor;\n",
                "DEALLOCATE database_cursor;"
            ],
            "metadata": {
                "azdata_cell_guid": "6850e402-fc8c-4118-b253-15d94b1457bf"
            },
            "outputs": [],
            "execution_count": 54
        },
        {
            "cell_type": "markdown",
            "source": [
                "## Restore databases"
            ],
            "metadata": {
                "azdata_cell_guid": "ac4a4c27-9b93-4d40-9c0e-51738b392b02"
            }
        },
        {
            "cell_type": "code",
            "source": [
                "USE [master];\r\n",
                "GO\r\n",
                "\r\n",
                "DECLARE @server_name NVARCHAR(50)\r\n",
                "    , @database_name_prefix NVARCHAR(50)\r\n",
                "    , @database_name NVARCHAR(50)\r\n",
                "    , @path NVARCHAR(256) /* path for backup files */\r\n",
                "    , @sql NVARCHAR(MAX)\r\n",
                "    , @file_timestamp NVARCHAR(128) = N'2020-02-03_11-00-278' /* Set the timestamp you want to use as source for the restore */\r\n",
                ";\r\n",
                "\r\n",
                "--SELECT @serverName = @@SERVERNAME -- it gives a different name from the one I am expexting on AWS enviroments\r\n",
                "\r\n",
                "SELECT @server_name = CAST(SERVERPROPERTY(N'MachineName') AS NVARCHAR(50));\r\n",
                "\r\n",
                "--PRINT @server_name\r\n",
                "\r\n",
                "/* select the right database backup directory using the server name */\r\n",
                "\r\n",
                "SELECT @path = [path] \r\n",
                "FROM [dbo].[#temp_server_path_mapping] \r\n",
                "WHERE [server_name] = @server_name\r\n",
                ";\r\n",
                "\r\n",
                "SET @database_name_prefix = N'';\r\n",
                "\r\n",
                "/* main loop on the database */\r\n",
                "\r\n",
                "DECLARE database_cursor CURSOR \r\n",
                "FOR \r\n",
                "\tSELECT @database_name_prefix + [name]\r\n",
                "\tFROM [#temp_database_name]\r\n",
                "\t;\r\n",
                "OPEN database_cursor;\r\n",
                "FETCH NEXT FROM database_cursor INTO @database_name;\r\n",
                "\r\n",
                "WHILE @@FETCH_STATUS = 0   \r\n",
                "BEGIN   \r\n",
                "\t--PRINT @database_name;\r\n",
                "\tSET @sql = N'\r\n",
                "IF DB_ID(''' + @database_name + N''') IS NOT NULL\r\n",
                "BEGIN\r\n",
                "\tRESTORE DATABASE ' + QUOTENAME(@database_name) + N'\r\n",
                "    FROM DISK = ''' + @path + @database_name + N'_' + @file_timestamp + N'.bak''\r\n",
                "    ;\r\n",
                "END\r\n",
                ";\r\n",
                "';\r\n",
                "\t--PRINT @sql;\r\n",
                "\tEXECUTE sp_executesql @sql;\r\n",
                "\r\n",
                "\tFETCH NEXT FROM database_cursor INTO @database_name;\r\n",
                "END   \r\n",
                ";\r\n",
                "\r\n",
                "CLOSE database_cursor;\r\n",
                "DEALLOCATE database_cursor;"
            ],
            "metadata": {
                "azdata_cell_guid": "0051a1c1-d903-4a60-a6fe-f8d754392def"
            },
            "outputs": [],
            "execution_count": 62
        },
        {
            "cell_type": "markdown",
            "source": [
                "## Drop databases"
            ],
            "metadata": {
                "azdata_cell_guid": "d13290c0-f99a-4469-b681-06a78921d6d8"
            }
        },
        {
            "cell_type": "code",
            "source": [
                "USE [master];\r\n",
                "GO\r\n",
                "\r\n",
                "DECLARE @database_name_prefix NVARCHAR(50)\r\n",
                "    , @database_name NVARCHAR(50)\r\n",
                "    , @sql AS NVARCHAR(MAX)\r\n",
                ";\r\n",
                "\r\n",
                "SET @database_name_prefix = N'';\r\n",
                "\r\n",
                "/* main loop on the database */\r\n",
                "\r\n",
                "DECLARE database_cursor CURSOR \r\n",
                "FOR \r\n",
                "\tSELECT @database_name_prefix + [name]\r\n",
                "\tFROM [#temp_database_name]\r\n",
                "\t;\r\n",
                "OPEN database_cursor;\r\n",
                "FETCH NEXT FROM database_cursor INTO @database_name;\r\n",
                "\r\n",
                "WHILE @@FETCH_STATUS = 0   \r\n",
                "BEGIN   \r\n",
                "\t--PRINT @database_name;\r\n",
                "\tSET @sql = N'\r\n",
                "IF DB_ID(''' + @database_name + N''') IS NOT NULL\r\n",
                "BEGIN\r\n",
                "\tDROP DATABASE ' + QUOTENAME(@database_name) + N';\r\n",
                "END\r\n",
                ";\r\n",
                "';\r\n",
                "\t--PRINT @sql;\r\n",
                "\tEXECUTE sp_executesql @sql;\r\n",
                "\r\n",
                "\tFETCH NEXT FROM database_cursor INTO @database_name;\r\n",
                "END   \r\n",
                ";\r\n",
                "\r\n",
                "CLOSE database_cursor;\r\n",
                "DEALLOCATE database_cursor;"
            ],
            "metadata": {
                "azdata_cell_guid": "dbd9f2e1-ebd1-4570-a9e6-73f98a33b3a5"
            },
            "outputs": [],
            "execution_count": 52
        },
        {
            "cell_type": "markdown",
            "source": [
                "## Drop temp table"
            ],
            "metadata": {
                "azdata_cell_guid": "339c258c-e6b0-437a-80bc-c03d5b165072"
            }
        },
        {
            "cell_type": "code",
            "source": [
                "DROP TABLE [dbo].[#temp_database_name];\r\n",
                "DROP TABLE [dbo].[#temp_server_path_mapping];"
            ],
            "metadata": {
                "azdata_cell_guid": "7521cc03-7c81-4786-b80d-a3278e4ec3c9"
            },
            "outputs": [],
            "execution_count": 63
        },
        {
            "cell_type": "markdown",
            "source": [
                "## Convert in script\r\n",
                "\r\n",
                "To convert in script the code in this notebook run the below commands in the terminal. Remember also to comment out the sections not needed (the script contains all the code cells together):"
            ],
            "metadata": {
                "azdata_cell_guid": "a4b3c931-633b-44a7-9f10-e64c08cad6e4"
            }
        },
        {
            "cell_type": "code",
            "source": [
                "jupyter nbconvert manage_databases.ipynb\r\n",
                "mv manage_databases.txt manage_databases.sql"
            ],
            "metadata": {
                "azdata_cell_guid": "f3605096-3ef9-4655-a1c4-a6eb0e2f91ee"
            },
            "outputs": [],
            "execution_count": 4
        }
    ]
}
