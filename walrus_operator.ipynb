{
 "cells": [
  {
   "cell_type": "markdown",
   "metadata": {},
   "source": [
    "# Walrus Operator\n",
    "\n",
    "In Python 3.8 there is new syntax := that assigns values to variables as part of a larger expression. It is affectionately known as “the walrus operator” due to its resemblance to the eyes and tusks of a walrus\n",
    "\n",
    "![walrus](https://media1.tenor.com/images/43c332a8a329018442acb91c53686e92/tenor.gif?itemid=4246825 \"walrus\")\n"
   ]
  },
  {
   "cell_type": "code",
   "execution_count": 1,
   "metadata": {},
   "outputs": [
    {
     "output_type": "stream",
     "name": "stdout",
     "text": "List is too long (6 elements, expected <= 5)\n"
    }
   ],
   "source": [
    "# in this example, the assignment expression helps avoid calling len() twice\n",
    "\n",
    "a = [1, 2, 3, 4, 5, 6]\n",
    "\n",
    "if (n := len(a)) > 5:\n",
    "    print(f'List is too long ({n} elements, expected <= 5)')\n",
    "else:\n",
    "    print('List is fine')"
   ]
  },
  {
   "cell_type": "code",
   "execution_count": 8,
   "metadata": {},
   "outputs": [
    {
     "output_type": "stream",
     "name": "stdout",
     "text": "List is too long (6 elements, expected <= 5)\n"
    }
   ],
   "source": [
    "# instead of \n",
    "\n",
    "if len(a) > 5:\n",
    "    print(f'List is too long ({len(a)} elements, expected <= 5)')\n",
    "else:\n",
    "    print('List is fine')"
   ]
  },
  {
   "cell_type": "code",
   "execution_count": null,
   "metadata": {},
   "outputs": [],
   "source": []
  }
 ],
 "metadata": {
  "language_info": {
   "name": "python",
   "codemirror_mode": {
    "name": "ipython",
    "version": 3
   },
   "version": "3.8.2-final"
  },
  "orig_nbformat": 2,
  "file_extension": ".py",
  "mimetype": "text/x-python",
  "name": "python",
  "npconvert_exporter": "python",
  "pygments_lexer": "ipython3",
  "version": 3,
  "kernelspec": {
   "name": "python38264bit8c8bf57897dd41afbb2bfcf7cdeb8645",
   "display_name": "Python 3.8.2 64-bit"
  }
 },
 "nbformat": 4,
 "nbformat_minor": 2
}